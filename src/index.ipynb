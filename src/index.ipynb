{
 "cells": [
  {
   "cell_type": "markdown",
   "metadata": {},
   "source": [
    "<h1><b>Machine Learning Based Clustering and Segmentation for Navigation<b></h1>"
   ]
  },
  {
   "cell_type": "markdown",
   "metadata": {},
   "source": [
    "<h3><b>Introduction</b></h3>\n",
    "    <p>\n",
    "    An ML based navigation algorithm that is based on several factors pertaining to neighbourhoods. That will give you the most efficient route to the desired destination, based on factors such as crime rate and population density.\n",
    "    </p>\n",
    "<h3><b>Prerequisites</b></h3>\n",
    "<ul>\n",
    "    <li>Foursquare API</li>\n",
    "</ul>\n",
    "<h3><b>Datasets Used</b></h3>"
   ]
  },
  {
   "cell_type": "markdown",
   "metadata": {},
   "source": [
    "<h3><b>Import Statements</b></h3>"
   ]
  },
  {
   "cell_type": "code",
   "execution_count": 21,
   "metadata": {},
   "outputs": [],
   "source": [
    "from dotenv import load_dotenv\n",
    "from dotenv import dotenv_values\n",
    "import folium\n",
    "import requests"
   ]
  },
  {
   "cell_type": "markdown",
   "metadata": {},
   "source": [
    "<h3><b>Foursquare API Initialization / Check</b></h3>"
   ]
  },
  {
   "cell_type": "code",
   "execution_count": 15,
   "metadata": {},
   "outputs": [
    {
     "name": "stdout",
     "output_type": "stream",
     "text": [
      "Foursquare API made connection\n"
     ]
    }
   ],
   "source": [
    "config = dotenv_values(\".env\")\n",
    "url = \"https://api.foursquare.com/v3/places/nearby\"\n",
    "\n",
    "headers = {\"Accept\": \"application/json\",\n",
    "            \"Authorization\": config[\"API_KEY\"]}\n",
    "\n",
    "response = requests.request(\"GET\", url, headers=headers)\n",
    "\n",
    "if(response.status_code == 200):\n",
    "    print(\"Foursquare API made connection\")\n",
    "else:\n",
    "    print(\"Try another API key\")"
   ]
  },
  {
   "cell_type": "markdown",
   "metadata": {},
   "source": [
    "<h3><b>Map Creation</b></h3>\n",
    "<h4><b>Category Codes:</b></h4>\n",
    "<ul>\n",
    "    <li>10000 - Arts and Entertainment</li>\n",
    "    <li>11000 - Business and Professional Services</li>\n",
    "    <li>12000 - Community and Government</li>\n",
    "    <li>13000 - Dining and Drinking</li>\n",
    "    <li>14000 - Event</li>\n",
    "    <li>15000 - Health and Medicine</li>\n",
    "    <li>16000 - Landmarks and Outdoors</li>\n",
    "    <li>17000 - Retail</li>\n",
    "    <li>18000 - Sports and Recreation</li>\n",
    "    <li>19000 - Travel and Transportation</li>\n",
    "</ul>"
   ]
  },
  {
   "cell_type": "code",
   "execution_count": 54,
   "metadata": {},
   "outputs": [],
   "source": [
    "def create_request(coords= None, location = None, categories = None, limit = \"10\"):\n",
    "    \"\"\"\n",
    "        Important:\n",
    "            - Coords and location cannot be entered together\n",
    "            - Location and radius cannot be entered together\n",
    "\n",
    "        The coords will be a list with latitude and longitude.\\n \n",
    "        Location will be a city and province such as  \"Oshawa, ON\".\\n\n",
    "        The category is a string from the above codes, with a default of None.\\n\n",
    "        The limit parameter is a maximum of 50, with a default of 10 requests.\\n\n",
    "\n",
    "        Examples:\n",
    "            - create_request(coords=[-78.848752,43.895962], limit=\"1\")\n",
    "            - create_request(coords=[-78.848752,43.895962], categories=\"10000\", limit=\"2\")\\n\n",
    "            - create_request(location=[\"Oshawa\",\"ON\"], limit=\"2\")\n",
    "            - create_request(location=[\"Oshawa\",\"ON\"], categories=\"10000\", limit=\"20\")\n",
    "    \"\"\"\n",
    "\n",
    "    if(coords and categories == None):\n",
    "        url = \"https://api.foursquare.com/v3/places/search?ll=\" + str(coords[0]) + \"%2C\" + str(coords[1]) + \"&radius=100000\"  + \"&limit=\" + limit\n",
    "    elif(coords and categories):\n",
    "        url = \"https://api.foursquare.com/v3/places/search?ll=\" + str(coords[0]) + \"%2C\" + str(coords[1]) +\"&categories=\" + categories + \"&radius=100000\" + \"&limit=\" + limit\n",
    "    elif(location and categories == None):\n",
    "        url = \"https://api.foursquare.com/v3/places/search?\" + \"near=\" + str(location[0]) + \"%2C\" + str(location[1]) + \"&limit=\" + limit\n",
    "    elif(location and categories):\n",
    "        url = \"https://api.foursquare.com/v3/places/search?\" + \"categories=\" + categories + \"&near=\" + str(location[0]) + \"%2C\" + str(location[1]) + \"&limit=\" + limit\n",
    "    else:\n",
    "        return False\n",
    "    \n",
    "    response = requests.request(\"GET\", url, headers=headers)\n",
    "    \n",
    "    if(response.status_code == 200):\n",
    "        return response.json()\n",
    "    else:\n",
    "        return False"
   ]
  },
  {
   "cell_type": "markdown",
   "metadata": {},
   "source": [
    "<h3><b>Creating DataFrames</b></h3>"
   ]
  },
  {
   "cell_type": "code",
   "execution_count": null,
   "metadata": {},
   "outputs": [],
   "source": []
  }
 ],
 "metadata": {
  "interpreter": {
   "hash": "aee8b7b246df8f9039afb4144a1f6fd8d2ca17a180786b69acc140d282b71a49"
  },
  "kernelspec": {
   "display_name": "Python 3.10.0 64-bit",
   "language": "python",
   "name": "python3"
  },
  "language_info": {
   "codemirror_mode": {
    "name": "ipython",
    "version": 3
   },
   "file_extension": ".py",
   "mimetype": "text/x-python",
   "name": "python",
   "nbconvert_exporter": "python",
   "pygments_lexer": "ipython3",
   "version": "3.10.0"
  },
  "orig_nbformat": 4
 },
 "nbformat": 4,
 "nbformat_minor": 2
}
