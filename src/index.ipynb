{
 "cells": [
  {
   "cell_type": "markdown",
   "metadata": {},
   "source": [
    "<h1><b>Machine Learning Based Clustering and Segmentation for Navigation<b></h1>"
   ]
  },
  {
   "cell_type": "markdown",
   "metadata": {},
   "source": [
    "<h3><b>Introduction</b></h3>\n",
    "    <p>\n",
    "    An ML based navigation algorithm that is based on several factors pertaining to neighbourhoods. That will give you the most efficient route to the desired destination, based on factors such as crime rate and population density.\n",
    "    </p>\n",
    "<h3><b>Prerequisites</b></h3>\n",
    "<ul>\n",
    "    <li>Foursquare API</li>\n",
    "</ul>"
   ]
  },
  {
   "cell_type": "markdown",
   "metadata": {},
   "source": [
    "<h3><b>Import Statements</b></h3>"
   ]
  },
  {
   "cell_type": "code",
   "execution_count": 32,
   "metadata": {},
   "outputs": [],
   "source": [
    "from dotenv import load_dotenv\n",
    "from dotenv import dotenv_values\n",
    "import folium\n",
    "import requests"
   ]
  },
  {
   "cell_type": "markdown",
   "metadata": {},
   "source": [
    "<h3><b>Foursquare API Initialization</b></h3>"
   ]
  },
  {
   "cell_type": "code",
   "execution_count": 40,
   "metadata": {},
   "outputs": [
    {
     "name": "stdout",
     "output_type": "stream",
     "text": [
      "fsq3+RUYF8YjIN0N612SV4reZ049+GMCXUxMQjMCRofwLcY=\n",
      "{\"results\":[{\"fsq_id\":\"574fae41498ea76019b48806\",\"categories\":[{\"id\":16032,\"name\":\"Park\",\"icon\":{\"prefix\":\"https://ss3.4sqi.net/img/categories_v2/parks_outdoors/park_\",\"suffix\":\".png\"}}],\"chains\":[],\"distance\":147,\"geocodes\":{\"main\":{\"latitude\":43.563707,\"longitude\":-79.718582},\"roof\":{\"latitude\":43.563707,\"longitude\":-79.718582}},\"location\":{\"address\":\"2625 Erin Centre Blvd\",\"country\":\"CA\",\"cross_street\":\"\",\"formatted_address\":\"2625 Erin Centre Blvd, Mississauga ON L5M 5P5\",\"locality\":\"Mississauga\",\"postcode\":\"L5M 5P5\",\"region\":\"ON\"},\"name\":\"Quenippenon Meadows Community Park\",\"related_places\":{},\"timezone\":\"America/Toronto\"},{\"fsq_id\":\"614129d9317a021970f01731\",\"categories\":[{\"id\":12094,\"name\":\"Residential Building\",\"icon\":{\"prefix\":\"https://ss3.4sqi.net/img/categories_v2/building/apartment_\",\"suffix\":\".png\"}}],\"chains\":[],\"distance\":527,\"geocodes\":{\"main\":{\"latitude\":43.565268,\"longitude\":-79.72638}},\"location\":{\"address\":\"5535 Glen Erin Dr\",\"country\":\"CA\",\"cross_street\":\"\",\"formatted_address\":\"5535 Glen Erin Dr, Mississauga ON L5M 6H1\",\"locality\":\"Mississauga\",\"postcode\":\"L5M 6H1\",\"region\":\"ON\"},\"name\":\"Dr. 5535 Glen Erin\",\"related_places\":{},\"timezone\":\"America/Toronto\"},{\"fsq_id\":\"519d2aed498e941d438f3b2d\",\"categories\":[{\"id\":12058,\"name\":\"Elementary School\",\"icon\":{\"prefix\":\"https://ss3.4sqi.net/img/categories_v2/building/school_\",\"suffix\":\".png\"}}],\"chains\":[],\"distance\":255,\"geocodes\":{\"main\":{\"latitude\":43.565884,\"longitude\":-79.721698},\"roof\":{\"latitude\":43.565884,\"longitude\":-79.721698}},\"location\":{\"address\":\"5482 Middlebury Dr\",\"country\":\"CA\",\"cross_street\":\"\",\"formatted_address\":\"5482 Middlebury Dr, Mississauga ON L5M 5G7\",\"locality\":\"Mississauga\",\"postcode\":\"L5M 5G7\",\"region\":\"ON\"},\"name\":\"Middlebury Public School\",\"related_places\":{},\"timezone\":\"America/Toronto\"},{\"fsq_id\":\"4e8609c7722ef4cbcabd29e7\",\"categories\":[{\"id\":17114,\"name\":\"Shopping Mall\",\"icon\":{\"prefix\":\"https://ss3.4sqi.net/img/categories_v2/shops/mall_\",\"suffix\":\".png\"}}],\"chains\":[],\"distance\":1562,\"geocodes\":{\"main\":{\"latitude\":43.565,\"longitude\":-79.700875}},\"location\":{\"address\":\"1675 the Chase\",\"country\":\"CA\",\"cross_street\":\"at Eglinton Ave W\",\"formatted_address\":\"1675 the Chase (at Eglinton Ave W), Mississauga ON L5M 5Y7\",\"locality\":\"Mississauga\",\"postcode\":\"L5M 5Y7\",\"region\":\"ON\"},\"name\":\"The Chase Square 富豪商场\",\"related_places\":{\"children\":[{\"fsq_id\":\"4bc356c1f8219c7468eeb510\",\"name\":\"HSBC 滙豐銀行\"},{\"fsq_id\":\"55a66fb2498e414d3662df31\",\"name\":\"Tian Bao Travel\"},{\"fsq_id\":\"6063c1df660fa82d7658e96a\",\"name\":\"EDFree.ca - Erectile Dysfunction Treatment\"}]},\"timezone\":\"America/Toronto\"},{\"fsq_id\":\"4bd759c809ecb713eaa8467c\",\"categories\":[{\"id\":17029,\"name\":\"Convenience Store\",\"icon\":{\"prefix\":\"https://ss3.4sqi.net/img/categories_v2/shops/conveniencestore_\",\"suffix\":\".png\"}}],\"chains\":[],\"distance\":695,\"geocodes\":{\"main\":{\"latitude\":43.558191,\"longitude\":-79.716591},\"roof\":{\"latitude\":43.558191,\"longitude\":-79.716591}},\"location\":{\"address\":\"2690 Erin Centre Blvd\",\"country\":\"CA\",\"formatted_address\":\"2690 Erin Centre Blvd, Mississauga ON L5M 5P5\",\"locality\":\"Mississauga\",\"postcode\":\"L5M 5P5\",\"region\":\"ON\"},\"name\":\"Dj's Convenience Store\",\"related_places\":{},\"timezone\":\"America/Toronto\"},{\"fsq_id\":\"4c0ae20c340720a1864a8793\",\"categories\":[{\"id\":16032,\"name\":\"Park\",\"icon\":{\"prefix\":\"https://ss3.4sqi.net/img/categories_v2/parks_outdoors/park_\",\"suffix\":\".png\"}}],\"chains\":[],\"distance\":389,\"geocodes\":{\"main\":{\"latitude\":43.564858,\"longitude\":-79.724888}},\"location\":{\"address\":\"\",\"country\":\"CA\",\"cross_street\":\"\",\"formatted_address\":\"Peel Regional Municipality ON\",\"locality\":\"Peel Regional Municipality\",\"postcode\":\"\",\"region\":\"ON\"},\"name\":\"Middlebury Park\",\"related_places\":{},\"timezone\":\"America/Toronto\"},{\"fsq_id\":\"4c450a5c2d3ec9b652d02fae\",\"categories\":[{\"id\":16033,\"name\":\"Dog Park\",\"icon\":{\"prefix\":\"https://ss3.4sqi.net/img/categories_v2/parks_outdoors/dogrun_\",\"suffix\":\".png\"}}],\"chains\":[],\"distance\":220,\"geocodes\":{\"main\":{\"latitude\":43.562436,\"longitude\":-79.718324},\"roof\":{\"latitude\":43.562436,\"longitude\":-79.718324}},\"location\":{\"address\":\"5210 Erin Mills Pky\",\"country\":\"CA\",\"cross_street\":\"\",\"formatted_address\":\"5210 Erin Mills Pky, Mississauga ON\",\"locality\":\"Mississauga\",\"postcode\":\"\",\"region\":\"ON\"},\"name\":\"Quenippenon Meadows Leash Free Dog Park\",\"related_places\":{},\"timezone\":\"America/Toronto\"},{\"fsq_id\":\"4c59d25204f9be9a3d46f060\",\"categories\":[{\"id\":16032,\"name\":\"Park\",\"icon\":{\"prefix\":\"https://ss3.4sqi.net/img/categories_v2/parks_outdoors/park_\",\"suffix\":\".png\"}}],\"chains\":[],\"distance\":382,\"geocodes\":{\"main\":{\"latitude\":43.563122,\"longitude\":-79.724832},\"roof\":{\"latitude\":43.563122,\"longitude\":-79.724832}},\"location\":{\"address\":\"\",\"country\":\"CA\",\"cross_street\":\"\",\"formatted_address\":\"\",\"postcode\":\"\"},\"name\":\"Sugar Maple Woods Park\",\"related_places\":{},\"timezone\":\"America/Toronto\"},{\"fsq_id\":\"619d640f88568f7da7c60239\",\"categories\":[{\"id\":17115,\"name\":\"Shopping Plaza\",\"icon\":{\"prefix\":\"https://ss3.4sqi.net/img/categories_v2/shops/mall_\",\"suffix\":\".png\"}}],\"chains\":[],\"distance\":785,\"geocodes\":{\"main\":{\"latitude\":43.562656,\"longitude\":-79.710556}},\"location\":{\"address\":\"2555 Erin Centre Blvd\",\"country\":\"CA\",\"cross_street\":\"\",\"formatted_address\":\"2555 Erin Centre Blvd, Mississauga ON L5M 5G9\",\"locality\":\"Mississauga\",\"neighborhood\":[\"Streetsville\"],\"postcode\":\"L5M 5G9\",\"region\":\"ON\"},\"name\":\"Erin Centre Plaza\",\"related_places\":{},\"timezone\":\"America/Toronto\"}]}\n"
     ]
    }
   ],
   "source": [
    "config = dotenv_values(\".env\")\n",
    "print(config[\"API_KEY\"])\n",
    "url = \"https://api.foursquare.com/v3/places/nearby\"\n",
    "\n",
    "headers = {\"Accept\": \"application/json\",\n",
    "            \"Authorization\": config[\"API_KEY\"]}\n",
    "\n",
    "response = requests.request(\"GET\", url, headers=headers)\n",
    "\n",
    "print(response.text)"
   ]
  }
 ],
 "metadata": {
  "interpreter": {
   "hash": "aee8b7b246df8f9039afb4144a1f6fd8d2ca17a180786b69acc140d282b71a49"
  },
  "kernelspec": {
   "display_name": "Python 3.10.0 64-bit",
   "language": "python",
   "name": "python3"
  },
  "language_info": {
   "codemirror_mode": {
    "name": "ipython",
    "version": 3
   },
   "file_extension": ".py",
   "mimetype": "text/x-python",
   "name": "python",
   "nbconvert_exporter": "python",
   "pygments_lexer": "ipython3",
   "version": "3.10.0"
  },
  "orig_nbformat": 4
 },
 "nbformat": 4,
 "nbformat_minor": 2
}
